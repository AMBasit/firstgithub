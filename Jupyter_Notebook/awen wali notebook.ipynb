{
 "cells": [
  {
   "cell_type": "markdown",
   "id": "f0c7f5c0-ad9e-4cea-9b95-4e688b5fa666",
   "metadata": {},
   "source": [
    "# JUPYTER"
   ]
  },
  {
   "cell_type": "code",
   "execution_count": 2,
   "id": "5e6cebf1-0d23-4326-bf4b-6130e6eb2552",
   "metadata": {},
   "outputs": [
    {
     "name": "stdout",
     "output_type": "stream",
     "text": [
      "Python k chilla with baba aammar\n"
     ]
    }
   ],
   "source": [
    "print(\"Python k chilla with baba aammar\")"
   ]
  },
  {
   "cell_type": "code",
   "execution_count": 4,
   "id": "1d3012a1-8776-48fb-a424-9d6abaa7f9dd",
   "metadata": {},
   "outputs": [
    {
     "data": {
      "text/plain": [
       "'Python ka chilla with Baba Aammar'"
      ]
     },
     "execution_count": 4,
     "metadata": {},
     "output_type": "execute_result"
    }
   ],
   "source": [
    "aammar = \"Python ka chilla with Baba Aammar\"\n",
    "aammar"
   ]
  }
 ],
 "metadata": {
  "kernelspec": {
   "display_name": "Python 3 (ipykernel)",
   "language": "python",
   "name": "python3"
  },
  "language_info": {
   "codemirror_mode": {
    "name": "ipython",
    "version": 3
   },
   "file_extension": ".py",
   "mimetype": "text/x-python",
   "name": "python",
   "nbconvert_exporter": "python",
   "pygments_lexer": "ipython3",
   "version": "3.12.7"
  }
 },
 "nbformat": 4,
 "nbformat_minor": 5
}
